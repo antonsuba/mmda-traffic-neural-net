{
 "cells": [
  {
   "cell_type": "code",
   "execution_count": 1,
   "metadata": {
    "collapsed": true
   },
   "outputs": [],
   "source": [
    "import pandas as pd\n",
    "import numpy as np\n",
    "import math\n",
    "from random import uniform"
   ]
  },
  {
   "cell_type": "code",
   "execution_count": 2,
   "metadata": {
    "collapsed": true
   },
   "outputs": [],
   "source": [
    "from neural_network import neural_network as net"
   ]
  },
  {
   "cell_type": "code",
   "execution_count": 3,
   "metadata": {
    "collapsed": true
   },
   "outputs": [],
   "source": [
    "TRAIN_DATA_X = 'data/X_train.csv'\n",
    "TRAIN_DATA_Y = 'data/y_train.csv'\n",
    "TEST_DATA_X = 'data/X_test.csv'\n",
    "TEST_DATA_Y = 'data/y_test.csv'"
   ]
  },
  {
   "cell_type": "code",
   "execution_count": 4,
   "metadata": {
    "collapsed": false
   },
   "outputs": [],
   "source": [
    "train_x_df = pd.read_csv(TRAIN_DATA_X)\n",
    "train_y_df = pd.read_csv(TRAIN_DATA_Y)\n",
    "\n",
    "dfy = train_y_df['Classification']\n",
    "dfx = train_x_df[['NumDeath','NumInjured','NumPedestrianVictim','NumVehInteraction','PassengerInjured','PassengerKilled','PedestrianInjured','PedestrianKilled','DriversInjured','DriversKilled']]"
   ]
  },
  {
   "cell_type": "code",
   "execution_count": 5,
   "metadata": {
    "collapsed": false
   },
   "outputs": [],
   "source": [
    "data_array_x = dfx.values\n",
    "dfy3 = dfy.values"
   ]
  },
  {
   "cell_type": "code",
   "execution_count": 6,
   "metadata": {
    "collapsed": false
   },
   "outputs": [],
   "source": [
    "dummies_dfy4 = pd.get_dummies(dfy3)"
   ]
  },
  {
   "cell_type": "code",
   "execution_count": 7,
   "metadata": {
    "collapsed": false
   },
   "outputs": [],
   "source": [
    "neural_net_go = net.NeuralNetwork([10,8,10],['Sigmoid','Sigmoid'])\n",
    "\n"
   ]
  },
  {
   "cell_type": "code",
   "execution_count": 28,
   "metadata": {
    "collapsed": false,
    "scrolled": false
   },
   "outputs": [],
   "source": [
    "neural_net_go.train(data_array_x, data_array_x,epochs=10000,train_method='sequential')"
   ]
  },
  {
   "cell_type": "code",
   "execution_count": 29,
   "metadata": {
    "collapsed": false
   },
   "outputs": [
    {
     "name": "stdout",
     "output_type": "stream",
     "text": [
      "Feed Forward:\n",
      "[matrix([[ 1.        ,  0.        ,  0.07142857,  1.        ,  0.        ,\n",
      "          0.        ,  0.        ,  0.2       ,  0.        ,  0.        ]]), matrix([[ -2.8030987 ,  -2.8030987 ,  -2.8030987 ,  -2.8030987 ,\n",
      "          -2.8030987 ,  -2.8030987 ,  -2.8030987 ,  -2.8030987 ],\n",
      "        [ -0.26931894,  -0.26931894,  -0.26931894,  -0.26931894,\n",
      "          -0.26931894,  -0.26931894,  -0.26931894,  -0.26931894],\n",
      "        [-13.15615706, -13.15615706, -13.15615706, -13.15615706,\n",
      "         -13.15615706, -13.15615706, -13.15615706, -13.15615706],\n",
      "        [  0.78609652,   0.78609652,   0.78609652,   0.78609652,\n",
      "           0.78609652,   0.78609652,   0.78609652,   0.78609652],\n",
      "        [  8.22511658,   8.22511658,   8.22511658,   8.22511658,\n",
      "           8.22511658,   8.22511658,   8.22511658,   8.22511658],\n",
      "        [  0.60701762,   0.60701762,   0.60701762,   0.60701762,\n",
      "           0.60701762,   0.60701762,   0.60701762,   0.60701762],\n",
      "        [-14.74823551, -14.74823551, -14.74823551, -14.74823551,\n",
      "         -14.74823551, -14.74823551, -14.74823551, -14.74823551],\n",
      "        [  5.31866805,   5.31866805,   5.31866805,   5.31866805,\n",
      "           5.31866805,   5.31866805,   5.31866805,   5.31866805],\n",
      "        [-16.47619849, -16.47619849, -16.47619849, -16.47619849,\n",
      "         -16.47619849, -16.47619849, -16.47619849, -16.47619849],\n",
      "        [ -7.36711538,  -7.36711538,  -7.36711538,  -7.36711538,\n",
      "          -7.36711538,  -7.36711538,  -7.36711538,  -7.36711538]]), matrix([[ 0.13090346,  0.13090346,  0.13090346,  0.13090346,  0.13090346,\n",
      "          0.13090346,  0.13090346,  0.13090346]]), matrix([[ -0.42728322,  -0.55252598, -17.96536284,  33.89421739,\n",
      "         -18.84368809, -13.28836473, -18.95754168, -17.23774917,\n",
      "         -17.75707094,  -8.36992069],\n",
      "        [ -0.42728322,  -0.55252598, -17.96536284,  33.89421739,\n",
      "         -18.84368809, -13.28836473, -18.95754168, -17.23774917,\n",
      "         -17.75707094,  -8.36992069],\n",
      "        [ -0.42728322,  -0.55252598, -17.96536284,  33.89421739,\n",
      "         -18.84368809, -13.28836473, -18.95754168, -17.23774917,\n",
      "         -17.75707094,  -8.36992069],\n",
      "        [ -0.42728322,  -0.55252598, -17.96536284,  33.89421739,\n",
      "         -18.84368809, -13.28836473, -18.95754168, -17.23774917,\n",
      "         -17.75707094,  -8.36992069],\n",
      "        [ -0.42728322,  -0.55252598, -17.96536284,  33.89421739,\n",
      "         -18.84368809, -13.28836473, -18.95754168, -17.23774917,\n",
      "         -17.75707094,  -8.36992069],\n",
      "        [ -0.42728322,  -0.55252598, -17.96536284,  33.89421739,\n",
      "         -18.84368809, -13.28836473, -18.95754168, -17.23774917,\n",
      "         -17.75707094,  -8.36992069],\n",
      "        [ -0.42728322,  -0.55252598, -17.96536284,  33.89421739,\n",
      "         -18.84368809, -13.28836473, -18.95754168, -17.23774917,\n",
      "         -17.75707094,  -8.36992069],\n",
      "        [ -0.42728322,  -0.55252598, -17.96536284,  33.89421739,\n",
      "         -18.84368809, -13.28836473, -18.95754168, -17.23774917,\n",
      "         -17.75707094,  -8.36992069]]), matrix([[  3.89964170e-01,   3.59250073e-01,   6.74930790e-09,\n",
      "           1.00000000e+00,   2.69024812e-09,   9.04444656e-07,\n",
      "           2.38787247e-09,   1.44604474e-08,   8.39443527e-09,\n",
      "           1.56044558e-04]])]\n",
      "Guess:\n",
      "[[  3.89964170e-01   3.59250073e-01   6.74930790e-09   1.00000000e+00\n",
      "    2.69024812e-09   9.04444656e-07   2.38787247e-09   1.44604474e-08\n",
      "    8.39443527e-09   1.56044558e-04]]\n",
      "Error Rate\n",
      "[[ -6.10035830e-01   3.59250073e-01  -7.14285647e-02  -4.44089210e-16\n",
      "    2.69024812e-09   9.04444656e-07   2.38787247e-09  -1.99999986e-01\n",
      "    8.39443527e-09   1.56044558e-04]]\n",
      "Error Total\n",
      "-0.522057344802\n"
     ]
    }
   ],
   "source": [
    "neural_net_go.run(data_array_x[0],data_array_x[0])"
   ]
  },
  {
   "cell_type": "code",
   "execution_count": null,
   "metadata": {
    "collapsed": true
   },
   "outputs": [],
   "source": []
  }
 ],
 "metadata": {
  "kernelspec": {
   "display_name": "Python 2",
   "language": "python",
   "name": "python2"
  },
  "language_info": {
   "codemirror_mode": {
    "name": "ipython",
    "version": 2
   },
   "file_extension": ".py",
   "mimetype": "text/x-python",
   "name": "python",
   "nbconvert_exporter": "python",
   "pygments_lexer": "ipython2",
   "version": "2.7.13"
  }
 },
 "nbformat": 4,
 "nbformat_minor": 2
}
