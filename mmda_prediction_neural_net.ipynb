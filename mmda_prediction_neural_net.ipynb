{
 "cells": [
  {
   "cell_type": "code",
   "execution_count": 6,
   "metadata": {},
   "outputs": [],
   "source": [
    "import pandas as pd\n",
    "import numpy as np\n",
    "import math\n",
    "from random import uniform"
   ]
  },
  {
   "cell_type": "code",
   "execution_count": 7,
   "metadata": {},
   "outputs": [],
   "source": [
    "from neural_network import neural_network as net"
   ]
  },
  {
   "cell_type": "code",
   "execution_count": 10,
   "metadata": {},
   "outputs": [],
   "source": [
    "TRAIN_DATA_X = 'data/x_train.csv'\n",
    "TRAIN_DATA_Y = 'data/y_train.csv'\n",
    "TEST_DATA_X = 'data/x_test.csv'\n",
    "TEST_DATA_Y = 'data/y_test.csv'"
   ]
  },
  {
   "cell_type": "code",
   "execution_count": 11,
   "metadata": {},
   "outputs": [],
   "source": [
    "train_x_df = pd.read_csv(TRAIN_DATA_X)\n",
    "train_y_df = pd.read_csv(TRAIN_DATA_Y)\n",
    "\n",
    "dfy = train_y_df['Classification']\n",
    "dfx = train_x_df[['NumDeath','NumInjured','NumPedestrianVictim','NumVehInteraction','PassengerInjured','PassengerKilled','PedestrianInjured','PedestrianKilled','DriversInjured','DriversKilled']]"
   ]
  },
  {
   "cell_type": "code",
   "execution_count": 12,
   "metadata": {},
   "outputs": [],
   "source": [
    "data_array_x = dfx.values\n",
    "dfy3 = dfy.values"
   ]
  },
  {
   "cell_type": "code",
   "execution_count": 13,
   "metadata": {},
   "outputs": [],
   "source": [
    "dummies_dfy4 = pd.get_dummies(dfy3)"
   ]
  },
  {
   "cell_type": "code",
   "execution_count": 14,
   "metadata": {},
   "outputs": [],
   "source": [
    "neural_net_go = net.NeuralNetwork([10,8,10],['Sigmoid','Sigmoid'])"
   ]
  },
  {
   "cell_type": "code",
   "execution_count": 23,
   "metadata": {
    "scrolled": false
   },
   "outputs": [],
   "source": [
    "neural_net_go.train(data_array_x, data_array_x,epochs=2000,train_method='sequential')"
   ]
  },
  {
   "cell_type": "code",
   "execution_count": 24,
   "metadata": {},
   "outputs": [
    {
     "name": "stdout",
     "output_type": "stream",
     "text": [
      "Feed Forward:\n",
      "[matrix([[ 1.        ,  0.        ,  0.07142857,  1.        ,  0.        ,\n",
      "          0.        ,  0.        ,  0.2       ,  0.        ,  0.        ]]), matrix([[ -3.28754579,  -3.28754579,  -3.28754579,  -3.28754579,\n",
      "          -3.28754579,  -3.28754579,  -3.28754579,  -3.28754579],\n",
      "        [ -0.21861835,  -0.21861835,  -0.21861835,  -0.21861835,\n",
      "          -0.21861835,  -0.21861835,  -0.21861835,  -0.21861835],\n",
      "        [ -4.47358568,  -4.47358568,  -4.47358568,  -4.47358568,\n",
      "          -4.47358568,  -4.47358568,  -4.47358568,  -4.47358568],\n",
      "        [  0.80896037,   0.80896037,   0.80896037,   0.80896037,\n",
      "           0.80896037,   0.80896037,   0.80896037,   0.80896037],\n",
      "        [  4.71938848,   4.71938848,   4.71938848,   4.71938848,\n",
      "           4.71938848,   4.71938848,   4.71938848,   4.71938848],\n",
      "        [  3.97536303,   3.97536303,   3.97536303,   3.97536303,\n",
      "           3.97536303,   3.97536303,   3.97536303,   3.97536303],\n",
      "        [ -4.19232408,  -4.19232408,  -4.19232408,  -4.19232408,\n",
      "          -4.19232408,  -4.19232408,  -4.19232408,  -4.19232408],\n",
      "        [  0.0221855 ,   0.0221855 ,   0.0221855 ,   0.0221855 ,\n",
      "           0.0221855 ,   0.0221855 ,   0.0221855 ,   0.0221855 ],\n",
      "        [-15.02522345, -15.02522345, -15.02522345, -15.02522345,\n",
      "         -15.02522345, -15.02522345, -15.02522345, -15.02522345],\n",
      "        [ -4.51955751,  -4.51955751,  -4.51955751,  -4.51955751,\n",
      "          -4.51955751,  -4.51955751,  -4.51955751,  -4.51955751]]), matrix([[ 0.0576661,  0.0576661,  0.0576661,  0.0576661,  0.0576661,\n",
      "          0.0576661,  0.0576661,  0.0576661]]), matrix([[ -0.44839151,  -0.46439017, -10.46108564,  21.00206626,\n",
      "         -11.73601156,  -8.68390871, -11.83600403,  -8.06185358,\n",
      "         -11.23364935,  -6.22374451],\n",
      "        [ -0.44839151,  -0.46439017, -10.46108564,  21.00206626,\n",
      "         -11.73601156,  -8.68390871, -11.83600403,  -8.06185358,\n",
      "         -11.23364935,  -6.22374451],\n",
      "        [ -0.44839151,  -0.46439017, -10.46108564,  21.00206626,\n",
      "         -11.73601156,  -8.68390871, -11.83600403,  -8.06185358,\n",
      "         -11.23364935,  -6.22374451],\n",
      "        [ -0.44839151,  -0.46439017, -10.46108564,  21.00206626,\n",
      "         -11.73601156,  -8.68390871, -11.83600403,  -8.06185358,\n",
      "         -11.23364935,  -6.22374451],\n",
      "        [ -0.44839151,  -0.46439017, -10.46108564,  21.00206626,\n",
      "         -11.73601156,  -8.68390871, -11.83600403,  -8.06185358,\n",
      "         -11.23364935,  -6.22374451],\n",
      "        [ -0.44839151,  -0.46439017, -10.46108564,  21.00206626,\n",
      "         -11.73601156,  -8.68390871, -11.83600403,  -8.06185358,\n",
      "         -11.23364935,  -6.22374451],\n",
      "        [ -0.44839151,  -0.46439017, -10.46108564,  21.00206626,\n",
      "         -11.73601156,  -8.68390871, -11.83600403,  -8.06185358,\n",
      "         -11.23364935,  -6.22374451],\n",
      "        [ -0.44839151,  -0.46439017, -10.46108564,  21.00206626,\n",
      "         -11.73601156,  -8.68390871, -11.83600403,  -8.06185358,\n",
      "         -11.23364935,  -6.22374451]]), matrix([[ 0.44846963,  0.44664477,  0.00795474,  0.99993803,  0.00443333,\n",
      "          0.01787813,  0.00423432,  0.02367987,  0.00558313,  0.05359612]])]\n",
      "Guess:\n",
      "[[ 0.44846963  0.44664477  0.00795474  0.99993803  0.00443333  0.01787813\n",
      "   0.00423432  0.02367987  0.00558313  0.05359612]]\n",
      "Error Rate\n",
      "[[ -5.51530366e-01   4.46644775e-01  -6.34738273e-02  -6.19662745e-05\n",
      "    4.43333357e-03   1.78781287e-02   4.23431799e-03  -1.76320133e-01\n",
      "    5.58313459e-03   5.35961232e-02]]\n",
      "Error Total\n",
      "-0.259016479608\n"
     ]
    }
   ],
   "source": [
    "neural_net_go.run(data_array_x[0],data_array_x[0])"
   ]
  },
  {
   "cell_type": "code",
   "execution_count": null,
   "metadata": {
    "collapsed": true
   },
   "outputs": [],
   "source": []
  }
 ],
 "metadata": {
  "kernelspec": {
   "display_name": "Python 3",
   "language": "python",
   "name": "python3"
  },
  "language_info": {
   "codemirror_mode": {
    "name": "ipython",
    "version": 3
   },
   "file_extension": ".py",
   "mimetype": "text/x-python",
   "name": "python",
   "nbconvert_exporter": "python",
   "pygments_lexer": "ipython3",
   "version": "3.5.2"
  }
 },
 "nbformat": 4,
 "nbformat_minor": 2
}
